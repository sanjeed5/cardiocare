{
 "cells": [
  {
   "cell_type": "code",
   "execution_count": 2,
   "metadata": {},
   "outputs": [],
   "source": [
    "import pandas as pd\n",
    "import numpy as np\n",
    "import matplotlib.pyplot as plt\n",
    "import seaborn as sns\n",
    "from pandas.plotting import scatter_matrix\n",
    "from sklearn.model_selection import StratifiedShuffleSplit\n",
    "from sklearn.pipeline import Pipeline\n",
    "from sklearn.preprocessing import StandardScaler, MinMaxScaler\n",
    "from sklearn.base import BaseEstimator, TransformerMixin\n",
    "from sklearn.preprocessing import FunctionTransformer\n",
    "from sklearn.pipeline import FeatureUnion\n",
    "from sklearn.impute import SimpleImputer\n",
    "from sklearn.model_selection import train_test_split"
   ]
  },
  {
   "cell_type": "code",
   "execution_count": 3,
   "metadata": {},
   "outputs": [],
   "source": [
    "cardio = pd.read_csv('coris.csv')\n",
    "pd.set_option('display.max_columns', None)"
   ]
  },
  {
   "cell_type": "raw",
   "metadata": {},
   "source": [
    "cardio.head()"
   ]
  },
  {
   "cell_type": "code",
   "execution_count": 4,
   "metadata": {},
   "outputs": [
    {
     "data": {
      "text/plain": [
       "Index(['row.names', 'sbp', 'tobacco', 'ldl', 'adiposity', 'famhist', 'typea',\n",
       "       'obesity', 'alcohol', 'age', 'chd'],\n",
       "      dtype='object')"
      ]
     },
     "execution_count": 4,
     "metadata": {},
     "output_type": "execute_result"
    }
   ],
   "source": [
    "cardio.columns"
   ]
  },
  {
   "cell_type": "code",
   "execution_count": 5,
   "metadata": {},
   "outputs": [],
   "source": [
    "cardio.drop('row.names', axis = 1, inplace = True)"
   ]
  },
  {
   "cell_type": "code",
   "execution_count": 6,
   "metadata": {},
   "outputs": [],
   "source": [
    "cardio['famhist'] = cardio['famhist'].map({\n",
    "    'Absent': 0, 'Present': 1\n",
    "})"
   ]
  },
  {
   "cell_type": "raw",
   "metadata": {},
   "source": [
    "cardio.hist(bins = 20, figsize = (12,15))\n",
    "plt.plot()"
   ]
  },
  {
   "cell_type": "code",
   "execution_count": 7,
   "metadata": {
    "scrolled": false
   },
   "outputs": [
    {
     "data": {
      "text/plain": [
       "0    0.65368\n",
       "1    0.34632\n",
       "Name: chd, dtype: float64"
      ]
     },
     "execution_count": 7,
     "metadata": {},
     "output_type": "execute_result"
    }
   ],
   "source": [
    "cardio['chd'].value_counts(normalize = True)"
   ]
  },
  {
   "cell_type": "code",
   "execution_count": 8,
   "metadata": {},
   "outputs": [],
   "source": [
    "# stratified test train split based on family history/ age strata\n",
    "\n",
    "age_strata = cardio['age'] // 16\n",
    "split = StratifiedShuffleSplit(n_splits = 1, test_size = 0.2, random_state = 42)\n",
    "for train_index, test_index in split.split(cardio, age_strata):\n",
    "# for train_index, test_index in split.split(cardio, cardio['chd']):\n",
    "    strat_train_set = cardio.iloc[train_index] \n",
    "    strat_test_set = cardio.iloc[test_index]"
   ]
  },
  {
   "cell_type": "code",
   "execution_count": 9,
   "metadata": {},
   "outputs": [],
   "source": [
    "cardio = strat_train_set.copy()"
   ]
  },
  {
   "cell_type": "raw",
   "metadata": {},
   "source": [
    "cardio.hist(bins = 20, figsize = (12,12))\n",
    "plt.plot()"
   ]
  },
  {
   "cell_type": "code",
   "execution_count": 10,
   "metadata": {
    "scrolled": false
   },
   "outputs": [
    {
     "data": {
      "text/plain": [
       "chd          1.000000\n",
       "age          0.375376\n",
       "tobacco      0.309451\n",
       "famhist      0.277175\n",
       "ldl          0.255865\n",
       "adiposity    0.246497\n",
       "sbp          0.125386\n",
       "typea        0.094392\n",
       "obesity      0.081873\n",
       "alcohol      0.039519\n",
       "Name: chd, dtype: float64"
      ]
     },
     "execution_count": 10,
     "metadata": {},
     "output_type": "execute_result"
    }
   ],
   "source": [
    "corr_matrix = cardio.corr()\n",
    "corr_matrix['chd'].sort_values(ascending = False)"
   ]
  },
  {
   "cell_type": "code",
   "execution_count": 11,
   "metadata": {},
   "outputs": [],
   "source": [
    "labels = cardio['chd']\n",
    "cardio.drop('chd', axis = 1, inplace = True)"
   ]
  },
  {
   "cell_type": "code",
   "execution_count": 12,
   "metadata": {},
   "outputs": [],
   "source": [
    "num_attributes = ['age', 'tobacco', 'ldl', 'adiposity', 'sbp', 'alcohol', 'typea', 'obesity']\n",
    "cat_attributes = ['famhist']"
   ]
  },
  {
   "cell_type": "code",
   "execution_count": 13,
   "metadata": {},
   "outputs": [],
   "source": [
    "class DataFrameSelector(BaseEstimator, TransformerMixin):\n",
    "    def __init__(self, attribute_names):\n",
    "        self.attribute_names = attribute_names\n",
    "    def fit(self, X, y=None):\n",
    "        return self\n",
    "    def transform(self, X):\n",
    "        return X[self.attribute_names]"
   ]
  },
  {
   "cell_type": "code",
   "execution_count": 14,
   "metadata": {},
   "outputs": [],
   "source": [
    "def exclude_obesity(X, exclude = False):\n",
    "    if exclude == True:\n",
    "        X.drop('obesity', axis = 1, inplace = True)\n",
    "    return X"
   ]
  },
  {
   "cell_type": "code",
   "execution_count": 15,
   "metadata": {},
   "outputs": [],
   "source": [
    "def exclude_alcohol(X, exclude = False):\n",
    "    if exclude == True:\n",
    "        X.drop('alcohol', axis = 1, inplace = True)\n",
    "    return X"
   ]
  },
  {
   "cell_type": "code",
   "execution_count": 16,
   "metadata": {},
   "outputs": [],
   "source": [
    "num_pipeline = Pipeline([\n",
    "    ('selector', DataFrameSelector(num_attributes)),\n",
    "    ('exclude_obesity', FunctionTransformer(exclude_obesity, validate = False, \n",
    "                                           kw_args = {\"exclude\": False})),\n",
    "    ('exclude_alcohol', FunctionTransformer(exclude_alcohol, validate = False,\n",
    "                                           kw_args = {\"exclude\": False})),\n",
    "    ('imputer', SimpleImputer(strategy = 'median')),\n",
    "    ('scaler', MinMaxScaler(feature_range = (0, 100)))\n",
    "])\n",
    "\n",
    "cardio_num_tr = pd.DataFrame(num_pipeline.fit_transform(cardio))"
   ]
  },
  {
   "cell_type": "code",
   "execution_count": 17,
   "metadata": {},
   "outputs": [],
   "source": [
    "cat_pipeline = Pipeline([\n",
    "    ('selector', DataFrameSelector(cat_attributes))\n",
    "])\n",
    "\n",
    "data_prep_pipeline = FeatureUnion(transformer_list=[\n",
    "                    (\"num_pipeline\", num_pipeline),\n",
    "                    (\"cat_pipeline\", cat_pipeline)])"
   ]
  },
  {
   "cell_type": "code",
   "execution_count": 18,
   "metadata": {},
   "outputs": [],
   "source": [
    "cardio_prepared = pd.DataFrame(data_prep_pipeline.fit_transform(cardio))"
   ]
  },
  {
   "cell_type": "raw",
   "metadata": {},
   "source": [
    "sns.pairplot(cardio_prepared)\n",
    "plt.show()"
   ]
  },
  {
   "cell_type": "markdown",
   "metadata": {},
   "source": [
    "### ML - model building\n"
   ]
  },
  {
   "cell_type": "code",
   "execution_count": 50,
   "metadata": {},
   "outputs": [],
   "source": [
    "from sklearn.linear_model import SGDClassifier, LogisticRegression\n",
    "from sklearn.model_selection import cross_val_score, cross_val_predict\n",
    "from sklearn.metrics import confusion_matrix\n",
    "from sklearn.metrics import precision_score, recall_score, fbeta_score\n",
    "from sklearn.metrics import roc_curve, precision_recall_curve\n",
    "from sklearn.ensemble import RandomForestClassifier\n",
    "from sklearn.svm import SVC\n",
    "from sklearn.base import BaseEstimator\n",
    "from sklearn.model_selection import GridSearchCV, RandomizedSearchCV\n",
    "from sklearn.metrics.scorer import make_scorer\n",
    "from sklearn.neural_network import MLPClassifier"
   ]
  },
  {
   "cell_type": "code",
   "execution_count": 108,
   "metadata": {},
   "outputs": [],
   "source": [
    "def get_scores(y_true, y_pred):\n",
    "    \n",
    "    def get_precision_score(y_true, y_pred):\n",
    "        return round(precision_score(y_true, y_pred), 2)\n",
    "    \n",
    "    def get_recall_score(y_true, y_pred):\n",
    "        return round(recall_score(y_true, y_pred), 2)\n",
    "    \n",
    "    def get_fbeta_score(y_true, y_pred):\n",
    "        return round(fbeta_score(y_true, y_pred, beta = 2), 2)\n",
    "    \n",
    "    print(f'precision   : {get_precision_score(y_true, y_pred)}')\n",
    "    print(f'recall      : {get_recall_score(y_true, y_pred)}')\n",
    "    print(f'fbeta score : {get_fbeta_score(y_true, y_pred)}')"
   ]
  },
  {
   "cell_type": "code",
   "execution_count": 52,
   "metadata": {},
   "outputs": [],
   "source": [
    "fbeta_scorer = make_scorer(fbeta_score, beta = 1.2)\n",
    "\n",
    "def get_fbeta_score(y_true, y_pred, beta = 1.2):\n",
    "    return fbeta_score(y_true, y_pred, beta)"
   ]
  },
  {
   "cell_type": "code",
   "execution_count": 53,
   "metadata": {},
   "outputs": [],
   "source": [
    "class DummyEstimator(BaseEstimator):\n",
    "    def fit(self): pass\n",
    "    def score(self): pass"
   ]
  },
  {
   "cell_type": "raw",
   "metadata": {},
   "source": [
    "# for multiple algorithms using randomized cv\n",
    "\n",
    "clf_pipeline = Pipeline([('clf', DummyEstimator())]) # placeholder estimator\n",
    "param_grid = [\n",
    "    {\n",
    "        'clf': [RandomForestClassifier(random_state = 0)],\n",
    "        'clf__n_estimators': [200, 400, 600, 800, 1000, 1200, 1400, 1600, 1800, 2000],\n",
    "        'clf__max_features': ['auto', 'sqrt'],\n",
    "        'clf__max_depth': [10, 20, 30, 40, 50, 60, 70, 80, 90, 100, 110, None],\n",
    "        'clf__min_samples_split': [2, 5, 10],\n",
    "        'clf__min_samples_leaf': [1, 2, 4],\n",
    "        'clf__bootstrap': [True, False]\n",
    "    },\n",
    "    {\n",
    "        'clf': [MLPClassifier(random_state = 0)],\n",
    "        'clf__activation': ['tanh', 'relu'],\n",
    "        'clf__alpha': [0.0001, 0.05],\n",
    "        'clf__hidden_layer_sizes':[(50,50,50), (50,100,50), (100,)],\n",
    "        'clf__learning_rate': ['constant','adaptive']\n",
    "    },\n",
    "    {\n",
    "        'clf': [LogisticRegression()],\n",
    "        'clf__penalty' : ['l1', 'l2'],\n",
    "        'clf__C' : np.logspace(-4, 4, 20),\n",
    "        'clf__solver' : ['liblinear']        \n",
    "    }]\n",
    "\n",
    "algos = ['RF', 'MLP', 'LR']\n",
    "results = dict()\n",
    "for idx, params in enumerate(param_grid):\n",
    "    \n",
    "    print(algos[idx])\n",
    "    random_search = RandomizedSearchCV(clf_pipeline, params, cv = 5, verbose = 0, n_jobs = -1, \n",
    "                                      random_state = 0, n_iter = 5, scoring = fbeta_scorer)\n",
    "    bes_clf = random_search.fit(cardio_prepared, labels)\n",
    "    results[algos[idx]] = random_search.best_score_ \n",
    "  \n",
    "print(results)"
   ]
  },
  {
   "cell_type": "code",
   "execution_count": 54,
   "metadata": {},
   "outputs": [
    {
     "name": "stderr",
     "output_type": "stream",
     "text": [
      "C:\\Users\\user\\Anaconda3\\envs\\tf\\lib\\site-packages\\sklearn\\model_selection\\_search.py:813: DeprecationWarning: The default of the `iid` parameter will change from True to False in version 0.22 and will be removed in 0.24. This will change numeric results when test-set sizes are unequal.\n",
      "  DeprecationWarning)\n"
     ]
    },
    {
     "name": "stdout",
     "output_type": "stream",
     "text": [
      "0.44528639424747785\n"
     ]
    }
   ],
   "source": [
    "clf_pipeline = Pipeline([('clf', DummyEstimator())]) # placeholder estimator\n",
    "param_grid = {\n",
    "        'clf': [RandomForestClassifier(random_state = 0)],\n",
    "        'clf__n_estimators': [200, 400, 600, 800, 1000, 1200, 1400, 1600, 1800, 2000],\n",
    "        'clf__max_features': ['auto', 'sqrt'],\n",
    "        'clf__max_depth': [10, 20, 30, 40, 50, 60, 70, 80, 90, 100, 110, None],\n",
    "        'clf__min_samples_split': [2, 5, 10],\n",
    "        'clf__min_samples_leaf': [1, 2, 4],\n",
    "        'clf__bootstrap': [True, False]\n",
    "\n",
    "}\n",
    "\n",
    "strat_cv = StratifiedShuffleSplit()\n",
    "random_search = RandomizedSearchCV(clf_pipeline, param_grid, cv = 5, verbose = 0, n_jobs = -1, \n",
    "                                      random_state = 0, n_iter = 5, scoring = fbeta_scorer)\n",
    "\n",
    "best_clf = random_search.fit(cardio_prepared, labels)\n",
    "print(random_search.best_score_)"
   ]
  },
  {
   "cell_type": "code",
   "execution_count": 57,
   "metadata": {
    "scrolled": true
   },
   "outputs": [],
   "source": [
    "pred_labels = best_clf.predict_proba(cardio_prepared)[:, 1]"
   ]
  },
  {
   "cell_type": "code",
   "execution_count": 58,
   "metadata": {},
   "outputs": [],
   "source": [
    "precisions, recalls, thresholds = precision_recall_curve(labels, pred_labels) "
   ]
  },
  {
   "cell_type": "code",
   "execution_count": 59,
   "metadata": {},
   "outputs": [],
   "source": [
    "def plot_precision_recall_vs_threshold(precisions, recalls, thresholds): \n",
    "    plt.plot(thresholds, precisions[:-1], \"b--\", label=\"Precision\") \n",
    "    plt.plot(thresholds, recalls[:-1], \"g-\", label=\"Recall\") \n",
    "    plt.xlabel(\"Threshold\") \n",
    "    plt.legend(loc=\"lower left\") \n",
    "    plt.ylim([0, 1])"
   ]
  },
  {
   "cell_type": "code",
   "execution_count": 60,
   "metadata": {},
   "outputs": [
    {
     "data": {
      "image/png": "[encoded data removed]",
      "text/plain": [
       "<Figure size 432x288 with 1 Axes>"
      ]
     },
     "metadata": {
      "needs_background": "light"
     },
     "output_type": "display_data"
    }
   ],
   "source": [
    "plot_precision_recall_vs_threshold(precisions, recalls, thresholds) \n",
    "plt.show()"
   ]
  },
  {
   "cell_type": "code",
   "execution_count": 123,
   "metadata": {},
   "outputs": [],
   "source": [
    "probab_threshold = 0.3 # setting threshold at 0.25\n",
    "pred_labels = np.where(pred_labels > probab_threshold, 1, 0)"
   ]
  },
  {
   "cell_type": "code",
   "execution_count": 124,
   "metadata": {
    "scrolled": true
   },
   "outputs": [
    {
     "name": "stdout",
     "output_type": "stream",
     "text": [
      "precision   : 0.45\n",
      "recall      : 1.0\n",
      "fbeta score : 0.8\n"
     ]
    }
   ],
   "source": [
    "get_scores(labels, pred_labels)"
   ]
  },
  {
   "cell_type": "markdown",
   "metadata": {},
   "source": [
    "### Evaluate on test set"
   ]
  },
  {
   "cell_type": "code",
   "execution_count": 125,
   "metadata": {},
   "outputs": [],
   "source": [
    "cardio_test = strat_test_set.copy()\n",
    "test_labels = cardio_test['chd']\n",
    "cardio_test.drop('chd', axis = 1, inplace = True)"
   ]
  },
  {
   "cell_type": "code",
   "execution_count": 126,
   "metadata": {},
   "outputs": [],
   "source": [
    "cardio_test_prepared = pd.DataFrame(data_prep_pipeline.fit_transform(cardio_test))"
   ]
  },
  {
   "cell_type": "code",
   "execution_count": 127,
   "metadata": {},
   "outputs": [],
   "source": [
    "pred_test_labels = best_clf.predict_proba(cardio_test_prepared)[:, 1] \n",
    "pred_test_labels = np.where(pred_test_labels > probab_threshold, 1, 0)"
   ]
  },
  {
   "cell_type": "code",
   "execution_count": 128,
   "metadata": {
    "scrolled": true
   },
   "outputs": [
    {
     "name": "stdout",
     "output_type": "stream",
     "text": [
      "precision   : 0.54\n",
      "recall      : 0.75\n",
      "fbeta score : 0.7\n"
     ]
    }
   ],
   "source": [
    "get_scores(test_labels, pred_test_labels)"
   ]
  },
  {
   "cell_type": "code",
   "execution_count": 71,
   "metadata": {},
   "outputs": [
    {
     "name": "stdout",
     "output_type": "stream",
     "text": [
      "precision   : 0.3870967741935484\n",
      "recall      : 1.0\n",
      "fbeta score : 0.759493670886076\n"
     ]
    }
   ],
   "source": [
    "always_1_labels = np.ones(len(test_labels))\n",
    "get_scores(test_labels, always_1_labels)"
   ]
  },
  {
   "cell_type": "code",
   "execution_count": 129,
   "metadata": {},
   "outputs": [],
   "source": [
    "import pickle \n",
    "with open('final_model.pkl', 'wb') as file:\n",
    "    pickle.dump(best_clf, file)"
   ]
  },
  {
   "cell_type": "code",
   "execution_count": 130,
   "metadata": {},
   "outputs": [],
   "source": [
    "with open('data_prep_pipeline.pkl', 'wb') as file:\n",
    "    pickle.dump(data_prep_pipeline, file)"
   ]
  },
  {
   "cell_type": "code",
   "execution_count": 131,
   "metadata": {},
   "outputs": [],
   "source": [
    "with open('probab_threshold.pkl', 'wb') as file:\n",
    "    pickle.dump(probab_threshold, file)"
   ]
  },
  {
   "cell_type": "code",
   "execution_count": null,
   "metadata": {},
   "outputs": [],
   "source": []
  }
 ],
 "metadata": {
  "kernelspec": {
   "display_name": "TensorFlow-GPU-1.13",
   "language": "python",
   "name": "tf-gpu"
  },
  "language_info": {
   "codemirror_mode": {
    "name": "ipython",
    "version": 3
   },
   "file_extension": ".py",
   "mimetype": "text/x-python",
   "name": "python",
   "nbconvert_exporter": "python",
   "pygments_lexer": "ipython3",
   "version": "3.7.1"
  }
 },
 "nbformat": 4,
 "nbformat_minor": 2
}
