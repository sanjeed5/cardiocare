{
 "cells": [
  {
   "cell_type": "code",
   "execution_count": 90,
   "metadata": {},
   "outputs": [],
   "source": [
    "import pandas as pd\n",
    "import numpy as np\n",
    "import matplotlib.pyplot as plt\n",
    "import seaborn as sns\n",
    "from pandas.plotting import scatter_matrix\n",
    "from sklearn.model_selection import StratifiedShuffleSplit\n",
    "from sklearn.pipeline import Pipeline\n",
    "from sklearn.preprocessing import StandardScaler\n",
    "from sklearn.base import BaseEstimator, TransformerMixin\n",
    "from sklearn.preprocessing import FunctionTransformer\n",
    "from sklearn.pipeline import FeatureUnion\n",
    "from sklearn.impute import SimpleImputer"
   ]
  },
  {
   "cell_type": "code",
   "execution_count": 197,
   "metadata": {},
   "outputs": [],
   "source": [
    "cardio = pd.read_csv('coris.csv')\n",
    "pd.set_option('display.max_columns', None)"
   ]
  },
  {
   "cell_type": "code",
   "execution_count": 3,
   "metadata": {},
   "outputs": [
    {
     "data": {
      "text/plain": [
       "Index(['row.names', 'sbp', 'tobacco', 'ldl', 'adiposity', 'famhist', 'typea',\n",
       "       'obesity', 'alcohol', 'age', 'chd'],\n",
       "      dtype='object')"
      ]
     },
     "execution_count": 3,
     "metadata": {},
     "output_type": "execute_result"
    }
   ],
   "source": [
    "cardio.columns"
   ]
  },
  {
   "cell_type": "code",
   "execution_count": 198,
   "metadata": {},
   "outputs": [],
   "source": [
    "cardio.drop('row.names', axis = 1, inplace = True)"
   ]
  },
  {
   "cell_type": "code",
   "execution_count": 5,
   "metadata": {},
   "outputs": [
    {
     "data": {
      "text/html": [
       "<div>\n",
       "<style scoped>\n",
       "    .dataframe tbody tr th:only-of-type {\n",
       "        vertical-align: middle;\n",
       "    }\n",
       "\n",
       "    .dataframe tbody tr th {\n",
       "        vertical-align: top;\n",
       "    }\n",
       "\n",
       "    .dataframe thead th {\n",
       "        text-align: right;\n",
       "    }\n",
       "</style>\n",
       "<table border=\"1\" class=\"dataframe\">\n",
       "  <thead>\n",
       "    <tr style=\"text-align: right;\">\n",
       "      <th></th>\n",
       "      <th>sbp</th>\n",
       "      <th>tobacco</th>\n",
       "      <th>ldl</th>\n",
       "      <th>adiposity</th>\n",
       "      <th>famhist</th>\n",
       "      <th>typea</th>\n",
       "      <th>obesity</th>\n",
       "      <th>alcohol</th>\n",
       "      <th>age</th>\n",
       "      <th>chd</th>\n",
       "    </tr>\n",
       "  </thead>\n",
       "  <tbody>\n",
       "    <tr>\n",
       "      <td>0</td>\n",
       "      <td>160</td>\n",
       "      <td>12.00</td>\n",
       "      <td>5.73</td>\n",
       "      <td>23.11</td>\n",
       "      <td>Present</td>\n",
       "      <td>49</td>\n",
       "      <td>25.30</td>\n",
       "      <td>97.20</td>\n",
       "      <td>52</td>\n",
       "      <td>1</td>\n",
       "    </tr>\n",
       "    <tr>\n",
       "      <td>1</td>\n",
       "      <td>144</td>\n",
       "      <td>0.01</td>\n",
       "      <td>4.41</td>\n",
       "      <td>28.61</td>\n",
       "      <td>Absent</td>\n",
       "      <td>55</td>\n",
       "      <td>28.87</td>\n",
       "      <td>2.06</td>\n",
       "      <td>63</td>\n",
       "      <td>1</td>\n",
       "    </tr>\n",
       "    <tr>\n",
       "      <td>2</td>\n",
       "      <td>118</td>\n",
       "      <td>0.08</td>\n",
       "      <td>3.48</td>\n",
       "      <td>32.28</td>\n",
       "      <td>Present</td>\n",
       "      <td>52</td>\n",
       "      <td>29.14</td>\n",
       "      <td>3.81</td>\n",
       "      <td>46</td>\n",
       "      <td>0</td>\n",
       "    </tr>\n",
       "    <tr>\n",
       "      <td>3</td>\n",
       "      <td>170</td>\n",
       "      <td>7.50</td>\n",
       "      <td>6.41</td>\n",
       "      <td>38.03</td>\n",
       "      <td>Present</td>\n",
       "      <td>51</td>\n",
       "      <td>31.99</td>\n",
       "      <td>24.26</td>\n",
       "      <td>58</td>\n",
       "      <td>1</td>\n",
       "    </tr>\n",
       "    <tr>\n",
       "      <td>4</td>\n",
       "      <td>134</td>\n",
       "      <td>13.60</td>\n",
       "      <td>3.50</td>\n",
       "      <td>27.78</td>\n",
       "      <td>Present</td>\n",
       "      <td>60</td>\n",
       "      <td>25.99</td>\n",
       "      <td>57.34</td>\n",
       "      <td>49</td>\n",
       "      <td>1</td>\n",
       "    </tr>\n",
       "  </tbody>\n",
       "</table>\n",
       "</div>"
      ],
      "text/plain": [
       "   sbp  tobacco   ldl  adiposity  famhist  typea  obesity  alcohol  age  chd\n",
       "0  160    12.00  5.73      23.11  Present     49    25.30    97.20   52    1\n",
       "1  144     0.01  4.41      28.61   Absent     55    28.87     2.06   63    1\n",
       "2  118     0.08  3.48      32.28  Present     52    29.14     3.81   46    0\n",
       "3  170     7.50  6.41      38.03  Present     51    31.99    24.26   58    1\n",
       "4  134    13.60  3.50      27.78  Present     60    25.99    57.34   49    1"
      ]
     },
     "execution_count": 5,
     "metadata": {},
     "output_type": "execute_result"
    }
   ],
   "source": [
    "cardio.head()"
   ]
  },
  {
   "cell_type": "code",
   "execution_count": 199,
   "metadata": {},
   "outputs": [],
   "source": [
    "cardio['famhist'] = cardio['famhist'].map({\n",
    "    'Absent': 0, 'Present': 1\n",
    "})"
   ]
  },
  {
   "cell_type": "code",
   "execution_count": null,
   "metadata": {},
   "outputs": [],
   "source": [
    "import matplotlib.pyplot as plt\n",
    "cardio.hist(bins = 20, figsize = (12,15))\n",
    "plt.plot()"
   ]
  },
  {
   "cell_type": "code",
   "execution_count": 200,
   "metadata": {
    "scrolled": true
   },
   "outputs": [
    {
     "data": {
      "text/plain": [
       "0    0.65368\n",
       "1    0.34632\n",
       "Name: chd, dtype: float64"
      ]
     },
     "execution_count": 200,
     "metadata": {},
     "output_type": "execute_result"
    }
   ],
   "source": [
    "cardio['chd'].value_counts(normalize = True)"
   ]
  },
  {
   "cell_type": "code",
   "execution_count": 201,
   "metadata": {},
   "outputs": [],
   "source": [
    "cardio['age_strata'] = cardio['age'] // 16"
   ]
  },
  {
   "cell_type": "code",
   "execution_count": 202,
   "metadata": {},
   "outputs": [],
   "source": [
    "# stratified test train split based on family history\n",
    "split = StratifiedShuffleSplit(n_splits = 1, test_size = 0.2, random_state = 42)\n",
    "for train_index, test_index in split.split(cardio, cardio[\"age_strata\"]):\n",
    "    strat_train_set = cardio.iloc[train_index] \n",
    "    strat_test_set = cardio.iloc[test_index]"
   ]
  },
  {
   "cell_type": "code",
   "execution_count": 203,
   "metadata": {},
   "outputs": [
    {
     "name": "stderr",
     "output_type": "stream",
     "text": [
      "C:\\Users\\user\\Anaconda3\\lib\\site-packages\\pandas\\core\\frame.py:4102: SettingWithCopyWarning: \n",
      "A value is trying to be set on a copy of a slice from a DataFrame\n",
      "\n",
      "See the caveats in the documentation: http://pandas.pydata.org/pandas-docs/stable/user_guide/indexing.html#returning-a-view-versus-a-copy\n",
      "  errors=errors,\n"
     ]
    }
   ],
   "source": [
    "strat_train_set.drop('age_strata', axis = 1, inplace = True)\n",
    "strat_test_set.drop('age_strata', axis = 1, inplace = True)"
   ]
  },
  {
   "cell_type": "code",
   "execution_count": 204,
   "metadata": {},
   "outputs": [],
   "source": [
    "cardio = strat_train_set.copy()"
   ]
  },
  {
   "cell_type": "code",
   "execution_count": 113,
   "metadata": {},
   "outputs": [
    {
     "data": {
      "text/plain": [
       "[]"
      ]
     },
     "execution_count": 113,
     "metadata": {},
     "output_type": "execute_result"
    },
    {
     "data": {
      "image/png": "[encoded data removed]",
      "text/plain": [
       "<Figure size 864x864 with 9 Axes>"
      ]
     },
     "metadata": {
      "needs_background": "light"
     },
     "output_type": "display_data"
    }
   ],
   "source": [
    "cardio.hist(bins = 20, figsize = (12,12))\n",
    "plt.plot()"
   ]
  },
  {
   "cell_type": "code",
   "execution_count": 161,
   "metadata": {
    "scrolled": true
   },
   "outputs": [
    {
     "data": {
      "text/plain": [
       "chd          1.000000\n",
       "age          0.375376\n",
       "tobacco      0.309451\n",
       "famhist      0.277175\n",
       "ldl          0.255865\n",
       "adiposity    0.246497\n",
       "sbp          0.125386\n",
       "typea        0.094392\n",
       "obesity      0.081873\n",
       "alcohol      0.039519\n",
       "row.names   -0.104864\n",
       "Name: chd, dtype: float64"
      ]
     },
     "execution_count": 161,
     "metadata": {},
     "output_type": "execute_result"
    }
   ],
   "source": [
    "corr_matrix = cardio.corr()\n",
    "corr_matrix['chd'].sort_values(ascending = False)"
   ]
  },
  {
   "cell_type": "code",
   "execution_count": 162,
   "metadata": {},
   "outputs": [],
   "source": [
    "labels = cardio['chd']\n",
    "cardio.drop('chd', axis = 1, inplace = True)"
   ]
  },
  {
   "cell_type": "code",
   "execution_count": 61,
   "metadata": {},
   "outputs": [
    {
     "data": {
      "text/html": [
       "<div>\n",
       "<style scoped>\n",
       "    .dataframe tbody tr th:only-of-type {\n",
       "        vertical-align: middle;\n",
       "    }\n",
       "\n",
       "    .dataframe tbody tr th {\n",
       "        vertical-align: top;\n",
       "    }\n",
       "\n",
       "    .dataframe thead th {\n",
       "        text-align: right;\n",
       "    }\n",
       "</style>\n",
       "<table border=\"1\" class=\"dataframe\">\n",
       "  <thead>\n",
       "    <tr style=\"text-align: right;\">\n",
       "      <th></th>\n",
       "      <th>sbp</th>\n",
       "      <th>tobacco</th>\n",
       "      <th>ldl</th>\n",
       "      <th>adiposity</th>\n",
       "      <th>famhist</th>\n",
       "      <th>typea</th>\n",
       "      <th>obesity</th>\n",
       "      <th>alcohol</th>\n",
       "      <th>age</th>\n",
       "    </tr>\n",
       "  </thead>\n",
       "  <tbody>\n",
       "    <tr>\n",
       "      <td>384</td>\n",
       "      <td>126</td>\n",
       "      <td>19.60</td>\n",
       "      <td>6.03</td>\n",
       "      <td>34.99</td>\n",
       "      <td>0</td>\n",
       "      <td>49</td>\n",
       "      <td>26.99</td>\n",
       "      <td>55.89</td>\n",
       "      <td>44</td>\n",
       "    </tr>\n",
       "    <tr>\n",
       "      <td>3</td>\n",
       "      <td>170</td>\n",
       "      <td>7.50</td>\n",
       "      <td>6.41</td>\n",
       "      <td>38.03</td>\n",
       "      <td>1</td>\n",
       "      <td>51</td>\n",
       "      <td>31.99</td>\n",
       "      <td>24.26</td>\n",
       "      <td>58</td>\n",
       "    </tr>\n",
       "    <tr>\n",
       "      <td>444</td>\n",
       "      <td>142</td>\n",
       "      <td>3.00</td>\n",
       "      <td>3.69</td>\n",
       "      <td>25.10</td>\n",
       "      <td>0</td>\n",
       "      <td>60</td>\n",
       "      <td>30.08</td>\n",
       "      <td>38.88</td>\n",
       "      <td>27</td>\n",
       "    </tr>\n",
       "    <tr>\n",
       "      <td>45</td>\n",
       "      <td>128</td>\n",
       "      <td>4.65</td>\n",
       "      <td>3.31</td>\n",
       "      <td>22.74</td>\n",
       "      <td>0</td>\n",
       "      <td>62</td>\n",
       "      <td>22.95</td>\n",
       "      <td>0.51</td>\n",
       "      <td>48</td>\n",
       "    </tr>\n",
       "    <tr>\n",
       "      <td>325</td>\n",
       "      <td>156</td>\n",
       "      <td>0.00</td>\n",
       "      <td>3.47</td>\n",
       "      <td>21.10</td>\n",
       "      <td>0</td>\n",
       "      <td>73</td>\n",
       "      <td>28.40</td>\n",
       "      <td>0.00</td>\n",
       "      <td>36</td>\n",
       "    </tr>\n",
       "    <tr>\n",
       "      <td>432</td>\n",
       "      <td>136</td>\n",
       "      <td>0.00</td>\n",
       "      <td>4.00</td>\n",
       "      <td>19.06</td>\n",
       "      <td>0</td>\n",
       "      <td>40</td>\n",
       "      <td>21.94</td>\n",
       "      <td>2.06</td>\n",
       "      <td>16</td>\n",
       "    </tr>\n",
       "  </tbody>\n",
       "</table>\n",
       "</div>"
      ],
      "text/plain": [
       "     sbp  tobacco   ldl  adiposity  famhist  typea  obesity  alcohol  age\n",
       "384  126    19.60  6.03      34.99        0     49    26.99    55.89   44\n",
       "3    170     7.50  6.41      38.03        1     51    31.99    24.26   58\n",
       "444  142     3.00  3.69      25.10        0     60    30.08    38.88   27\n",
       "45   128     4.65  3.31      22.74        0     62    22.95     0.51   48\n",
       "325  156     0.00  3.47      21.10        0     73    28.40     0.00   36\n",
       "432  136     0.00  4.00      19.06        0     40    21.94     2.06   16"
      ]
     },
     "execution_count": 61,
     "metadata": {},
     "output_type": "execute_result"
    }
   ],
   "source": [
    "cardio.sample(6)"
   ]
  },
  {
   "cell_type": "code",
   "execution_count": 163,
   "metadata": {},
   "outputs": [],
   "source": [
    "num_attributes = ['age', 'tobacco', 'ldl', 'adiposity', 'sbp', 'alcohol', 'typea', 'obesity']\n",
    "cat_attributes = ['famhist']"
   ]
  },
  {
   "cell_type": "code",
   "execution_count": 164,
   "metadata": {},
   "outputs": [],
   "source": [
    "cardio_num = cardio[num_attributes]\n",
    "cardio_cat = cardio['famhist']"
   ]
  },
  {
   "cell_type": "code",
   "execution_count": 165,
   "metadata": {},
   "outputs": [],
   "source": [
    "class DataFrameSelector(BaseEstimator, TransformerMixin):\n",
    "    def __init__(self, attribute_names):\n",
    "        self.attribute_names = attribute_names\n",
    "    def fit(self, X, y=None):\n",
    "        return self\n",
    "    def transform(self, X):\n",
    "        return X[self.attribute_names]"
   ]
  },
  {
   "cell_type": "code",
   "execution_count": 166,
   "metadata": {},
   "outputs": [],
   "source": [
    "def exclude_obesity(X, exclude = False):\n",
    "    if exclude == True:\n",
    "        X.drop('obesity', axis = 1, inplace = True)\n",
    "    return X"
   ]
  },
  {
   "cell_type": "code",
   "execution_count": 167,
   "metadata": {},
   "outputs": [],
   "source": [
    "def exclude_alcohol(X, exclude = False):\n",
    "    if exclude == True:\n",
    "        X.drop('alcohol', axis = 1, inplace = True)\n",
    "    return X"
   ]
  },
  {
   "cell_type": "code",
   "execution_count": 168,
   "metadata": {},
   "outputs": [],
   "source": [
    "num_pipeline = Pipeline([\n",
    "    ('selector', DataFrameSelector(num_attributes)),\n",
    "    ('exclude_obesity', FunctionTransformer(exclude_obesity, validate = False, \n",
    "                                           kw_args = {\"exclude\": True})),\n",
    "    ('exclude_alcohol', FunctionTransformer(exclude_alcohol, validate = False,\n",
    "                                           kw_args = {\"exclude\": True})),\n",
    "    ('imputer', SimpleImputer(strategy = 'median')),\n",
    "    ('std_scaler', StandardScaler())\n",
    "])\n",
    "\n",
    "cardio_num_tr = pd.DataFrame(num_pipeline.fit_transform(cardio))"
   ]
  },
  {
   "cell_type": "code",
   "execution_count": 169,
   "metadata": {},
   "outputs": [],
   "source": [
    "cat_pipeline = Pipeline([\n",
    "    ('selector', DataFrameSelector(cat_attributes))\n",
    "])\n",
    "\n",
    "data_prep_pipeline = FeatureUnion(transformer_list=[\n",
    "                    (\"num_pipeline\", num_pipeline),\n",
    "                    (\"cat_pipeline\", cat_pipeline)])"
   ]
  },
  {
   "cell_type": "code",
   "execution_count": 170,
   "metadata": {},
   "outputs": [
    {
     "name": "stderr",
     "output_type": "stream",
     "text": [
      "C:\\Users\\user\\Anaconda3\\lib\\site-packages\\pandas\\core\\frame.py:4102: SettingWithCopyWarning: \n",
      "A value is trying to be set on a copy of a slice from a DataFrame\n",
      "\n",
      "See the caveats in the documentation: http://pandas.pydata.org/pandas-docs/stable/user_guide/indexing.html#returning-a-view-versus-a-copy\n",
      "  errors=errors,\n"
     ]
    }
   ],
   "source": [
    "cardio_prepared = pd.DataFrame(data_prep_pipeline.fit_transform(cardio))"
   ]
  },
  {
   "cell_type": "code",
   "execution_count": 133,
   "metadata": {
    "scrolled": false
   },
   "outputs": [
    {
     "data": {
      "text/html": [
       "<div>\n",
       "<style scoped>\n",
       "    .dataframe tbody tr th:only-of-type {\n",
       "        vertical-align: middle;\n",
       "    }\n",
       "\n",
       "    .dataframe tbody tr th {\n",
       "        vertical-align: top;\n",
       "    }\n",
       "\n",
       "    .dataframe thead th {\n",
       "        text-align: right;\n",
       "    }\n",
       "</style>\n",
       "<table border=\"1\" class=\"dataframe\">\n",
       "  <thead>\n",
       "    <tr style=\"text-align: right;\">\n",
       "      <th></th>\n",
       "      <th>0</th>\n",
       "      <th>1</th>\n",
       "      <th>2</th>\n",
       "      <th>3</th>\n",
       "      <th>4</th>\n",
       "      <th>5</th>\n",
       "      <th>6</th>\n",
       "    </tr>\n",
       "  </thead>\n",
       "  <tbody>\n",
       "    <tr>\n",
       "      <td>0</td>\n",
       "      <td>0.433217</td>\n",
       "      <td>-0.560052</td>\n",
       "      <td>-1.237518</td>\n",
       "      <td>1.169384</td>\n",
       "      <td>0.407631</td>\n",
       "      <td>-0.365672</td>\n",
       "      <td>0.0</td>\n",
       "    </tr>\n",
       "    <tr>\n",
       "      <td>1</td>\n",
       "      <td>-1.082017</td>\n",
       "      <td>-0.807472</td>\n",
       "      <td>-0.042666</td>\n",
       "      <td>-0.105952</td>\n",
       "      <td>0.509195</td>\n",
       "      <td>-0.365672</td>\n",
       "      <td>0.0</td>\n",
       "    </tr>\n",
       "    <tr>\n",
       "      <td>2</td>\n",
       "      <td>-1.770759</td>\n",
       "      <td>-0.786143</td>\n",
       "      <td>-0.735480</td>\n",
       "      <td>-1.824009</td>\n",
       "      <td>-0.303315</td>\n",
       "      <td>2.072237</td>\n",
       "      <td>0.0</td>\n",
       "    </tr>\n",
       "    <tr>\n",
       "      <td>3</td>\n",
       "      <td>-1.633011</td>\n",
       "      <td>-0.807472</td>\n",
       "      <td>-0.886091</td>\n",
       "      <td>-1.590071</td>\n",
       "      <td>-0.506443</td>\n",
       "      <td>1.224269</td>\n",
       "      <td>0.0</td>\n",
       "    </tr>\n",
       "    <tr>\n",
       "      <td>4</td>\n",
       "      <td>0.364343</td>\n",
       "      <td>0.088358</td>\n",
       "      <td>-0.921234</td>\n",
       "      <td>0.452479</td>\n",
       "      <td>0.102940</td>\n",
       "      <td>-1.107644</td>\n",
       "      <td>1.0</td>\n",
       "    </tr>\n",
       "    <tr>\n",
       "      <td>...</td>\n",
       "      <td>...</td>\n",
       "      <td>...</td>\n",
       "      <td>...</td>\n",
       "      <td>...</td>\n",
       "      <td>...</td>\n",
       "      <td>...</td>\n",
       "      <td>...</td>\n",
       "    </tr>\n",
       "    <tr>\n",
       "      <td>364</td>\n",
       "      <td>0.433217</td>\n",
       "      <td>-0.807472</td>\n",
       "      <td>-0.288665</td>\n",
       "      <td>1.425960</td>\n",
       "      <td>-0.303315</td>\n",
       "      <td>0.376300</td>\n",
       "      <td>0.0</td>\n",
       "    </tr>\n",
       "    <tr>\n",
       "      <td>365</td>\n",
       "      <td>0.846463</td>\n",
       "      <td>-0.636838</td>\n",
       "      <td>-1.142131</td>\n",
       "      <td>-0.968754</td>\n",
       "      <td>-1.522081</td>\n",
       "      <td>-0.683660</td>\n",
       "      <td>0.0</td>\n",
       "    </tr>\n",
       "    <tr>\n",
       "      <td>366</td>\n",
       "      <td>-0.186651</td>\n",
       "      <td>-0.461938</td>\n",
       "      <td>2.141201</td>\n",
       "      <td>-0.444281</td>\n",
       "      <td>-1.014262</td>\n",
       "      <td>0.588292</td>\n",
       "      <td>0.0</td>\n",
       "    </tr>\n",
       "    <tr>\n",
       "      <td>367</td>\n",
       "      <td>1.053086</td>\n",
       "      <td>0.062762</td>\n",
       "      <td>-0.077809</td>\n",
       "      <td>-1.337268</td>\n",
       "      <td>-1.217389</td>\n",
       "      <td>0.906281</td>\n",
       "      <td>1.0</td>\n",
       "    </tr>\n",
       "    <tr>\n",
       "      <td>368</td>\n",
       "      <td>-1.839633</td>\n",
       "      <td>-0.807472</td>\n",
       "      <td>-0.760581</td>\n",
       "      <td>-1.961101</td>\n",
       "      <td>-0.709570</td>\n",
       "      <td>0.588292</td>\n",
       "      <td>0.0</td>\n",
       "    </tr>\n",
       "  </tbody>\n",
       "</table>\n",
       "<p>369 rows × 7 columns</p>\n",
       "</div>"
      ],
      "text/plain": [
       "            0         1         2         3         4         5    6\n",
       "0    0.433217 -0.560052 -1.237518  1.169384  0.407631 -0.365672  0.0\n",
       "1   -1.082017 -0.807472 -0.042666 -0.105952  0.509195 -0.365672  0.0\n",
       "2   -1.770759 -0.786143 -0.735480 -1.824009 -0.303315  2.072237  0.0\n",
       "3   -1.633011 -0.807472 -0.886091 -1.590071 -0.506443  1.224269  0.0\n",
       "4    0.364343  0.088358 -0.921234  0.452479  0.102940 -1.107644  1.0\n",
       "..        ...       ...       ...       ...       ...       ...  ...\n",
       "364  0.433217 -0.807472 -0.288665  1.425960 -0.303315  0.376300  0.0\n",
       "365  0.846463 -0.636838 -1.142131 -0.968754 -1.522081 -0.683660  0.0\n",
       "366 -0.186651 -0.461938  2.141201 -0.444281 -1.014262  0.588292  0.0\n",
       "367  1.053086  0.062762 -0.077809 -1.337268 -1.217389  0.906281  1.0\n",
       "368 -1.839633 -0.807472 -0.760581 -1.961101 -0.709570  0.588292  0.0\n",
       "\n",
       "[369 rows x 7 columns]"
      ]
     },
     "execution_count": 133,
     "metadata": {},
     "output_type": "execute_result"
    }
   ],
   "source": [
    "cardio_prepared"
   ]
  },
  {
   "cell_type": "code",
   "execution_count": null,
   "metadata": {},
   "outputs": [],
   "source": [
    "sns.pairplot(cardio_prepared)\n",
    "plt.show()"
   ]
  },
  {
   "cell_type": "markdown",
   "metadata": {},
   "source": [
    "### ML - model building\n"
   ]
  },
  {
   "cell_type": "code",
   "execution_count": 171,
   "metadata": {},
   "outputs": [],
   "source": [
    "from sklearn.linear_model import SGDClassifier, LogisticRegression\n",
    "from sklearn.model_selection import cross_val_score, cross_val_predict\n",
    "from sklearn.metrics import confusion_matrix\n",
    "from sklearn.metrics import precision_score, recall_score, fbeta_score\n",
    "from sklearn.metrics import roc_curve, precision_recall_curve\n",
    "from sklearn.ensemble import RandomForestClassifier\n",
    "from sklearn.svm import SVC\n",
    "from sklearn.base import BaseEstimator\n",
    "from sklearn.model_selection import GridSearchCV, RandomizedSearchCV\n",
    "from sklearn.metrics.scorer import make_scorer"
   ]
  },
  {
   "cell_type": "code",
   "execution_count": 172,
   "metadata": {},
   "outputs": [],
   "source": [
    "def get_scores(y_true, y_pred):\n",
    "    \n",
    "    def get_precision_score(y_true, y_pred):\n",
    "        return precision_score(y_true, y_pred)\n",
    "    \n",
    "    def get_recall_score(y_true, y_pred):\n",
    "        return recall_score(y_true, y_pred)\n",
    "    \n",
    "    def get_fbeta_score(y_true, y_pred):\n",
    "        return fbeta_score(y_true, y_pred, beta = 2)\n",
    "    \n",
    "    print(f'precision   : {get_precision_score(y_true, y_pred)}')\n",
    "    print(f'recall      : {get_recall_score(y_true, y_pred)}')\n",
    "    print(f'fbeta score : {get_fbeta_score(y_true, y_pred)}')"
   ]
  },
  {
   "cell_type": "code",
   "execution_count": 173,
   "metadata": {},
   "outputs": [],
   "source": [
    "fbeta_scorer = make_scorer(fbeta_score, beta = 1.414)\n",
    "\n",
    "def get_fbeta_score(y_true, y_pred, beta = 1.414):\n",
    "    return fbeta_score(y_true, y_pred, beta)"
   ]
  },
  {
   "cell_type": "code",
   "execution_count": 174,
   "metadata": {},
   "outputs": [],
   "source": [
    "class DummyEstimator(BaseEstimator):\n",
    "    def fit(self): pass\n",
    "    def score(self): pass"
   ]
  },
  {
   "cell_type": "raw",
   "metadata": {},
   "source": [
    "# for multiple algorithms using randomized cv\n",
    "\n",
    "clf_pipeline = Pipeline([('clf', DummyEstimator())]) # placeholder estimator\n",
    "param_grid = [\n",
    "    {\n",
    "        'clf': [RandomForestClassifier(random_state = 0)],\n",
    "        'clf__n_estimators': [200, 400, 600, 800, 1000, 1200, 1400, 1600, 1800, 2000],\n",
    "        'clf__max_features': ['auto', 'sqrt'],\n",
    "        'clf__max_depth': [10, 20, 30, 40, 50, 60, 70, 80, 90, 100, 110, None],\n",
    "        'clf__min_samples_split': [2, 5, 10],\n",
    "        'clf__min_samples_leaf': [1, 2, 4],\n",
    "        'clf__bootstrap': [True, False]\n",
    "    },\n",
    "    {\n",
    "        'clf': [SVC(random_state = 0)],\n",
    "        'clf__kernel': ['linear', 'rbf', 'poly'],\n",
    "        'clf__gamma': [0.1, 1, 10, 100],\n",
    "        'clf__C': [0.1, 1, 10, 100, 1000],\n",
    "        \n",
    "    },\n",
    "    {\n",
    "        'clf': [LogisticRegression()],\n",
    "        'clf__penalty' : ['l1', 'l2'],\n",
    "        'clf__C' : np.logspace(-4, 4, 20),\n",
    "        'clf__solver' : ['liblinear']        \n",
    "    }]\n",
    "\n",
    "\n",
    "results = dict()\n",
    "for idx, params in enumerate(param_grid):\n",
    "    print(idx)\n",
    "    random_search = RandomizedSearchCV(clf_pipeline, params, cv = 5, verbose = 0, n_jobs = -1, \n",
    "                                      random_state = 0, n_iter = 5, scoring = fbeta_scorer)\n",
    "    bes_clf = random_search.fit(cardio_prepared, labels)\n",
    "    results[idx + 1] = random_search.best_score_ \n",
    "   "
   ]
  },
  {
   "cell_type": "raw",
   "metadata": {},
   "source": [
    "# for optimal set of features\n",
    "\n",
    "clf_pipeline = Pipeline([('clf', DummyEstimator())]) # placeholder estimator\n",
    "param_grid = {\n",
    "        'clf': [RandomForestClassifier(random_state = 0)],\n",
    "        'clf__n_estimators': [200, 400, 600, 800, 1000, 1200, 1400, 1600, 1800, 2000],\n",
    "        'clf__max_features': ['auto', 'sqrt'],\n",
    "        'clf__max_depth': [10, 20, 30, 40, 50, 60, 70, 80, 90, 100, 110, None],\n",
    "        'clf__min_samples_split': [2, 5, 10],\n",
    "        'clf__min_samples_leaf': [1, 2, 4],\n",
    "        'clf__bootstrap': [True, False]\n",
    "}\n",
    "\n",
    "results = dict()\n",
    "random_search = RandomizedSearchCV(clf_pipeline, params, cv = 5, verbose = 0, n_jobs = -1, \n",
    "                                      random_state = 0, n_iter = 5, scoring = fbeta_scorer)\n",
    "                                      \n",
    "for col in cardio_prepared.columns:\n",
    "    best_clf = random_search.fit(cardio_prepared[col].values.reshape(-1, 1), labels)\n",
    "    results[col] = best_clf.best_score_\n",
    "\n",
    "print(results)\n"
   ]
  },
  {
   "cell_type": "code",
   "execution_count": null,
   "metadata": {},
   "outputs": [],
   "source": [
    "# best_features = ([0, 1, 2], [0, 1, 2, 4, 6])"
   ]
  },
  {
   "cell_type": "code",
   "execution_count": 189,
   "metadata": {},
   "outputs": [
    {
     "name": "stderr",
     "output_type": "stream",
     "text": [
      "C:\\Users\\user\\Anaconda3\\lib\\site-packages\\sklearn\\model_selection\\_search.py:814: DeprecationWarning: The default of the `iid` parameter will change from True to False in version 0.22 and will be removed in 0.24. This will change numeric results when test-set sizes are unequal.\n",
      "  DeprecationWarning)\n"
     ]
    },
    {
     "name": "stdout",
     "output_type": "stream",
     "text": [
      "0.4887258968510158\n"
     ]
    }
   ],
   "source": [
    "clf_pipeline = Pipeline([('clf', DummyEstimator())]) # placeholder estimator\n",
    "param_grid = {\n",
    "        'clf': [RandomForestClassifier(random_state = 0)],\n",
    "        'clf__n_estimators': [200, 400, 600, 800, 1000, 1200, 1400, 1600, 1800, 2000],\n",
    "        'clf__max_features': ['auto', 'sqrt'],\n",
    "        'clf__max_depth': [10, 20, 30, 40, 50, 60, 70, 80, 90, 100, 110, None],\n",
    "        'clf__min_samples_split': [2, 5, 10],\n",
    "        'clf__min_samples_leaf': [1, 2, 4],\n",
    "        'clf__bootstrap': [True, False]\n",
    "}\n",
    "\n",
    "random_search = RandomizedSearchCV(clf_pipeline, param_grid, cv = 5, verbose = 0, n_jobs = -1, \n",
    "                                      random_state = 0, n_iter = 10, scoring = fbeta_scorer)\n",
    "best_clf = random_search.fit(cardio_prepared[[0, 1, 6]], labels)\n",
    "print(random_search.best_score_)"
   ]
  },
  {
   "cell_type": "code",
   "execution_count": 190,
   "metadata": {
    "scrolled": true
   },
   "outputs": [],
   "source": [
    "pred_labels = best_clf.predict_proba(cardio_prepared[[0, 1, 2]])[:, 1] # probability of positive class"
   ]
  },
  {
   "cell_type": "code",
   "execution_count": 191,
   "metadata": {},
   "outputs": [],
   "source": [
    "precisions, recalls, thresholds = precision_recall_curve(labels, pred_labels) "
   ]
  },
  {
   "cell_type": "code",
   "execution_count": 192,
   "metadata": {},
   "outputs": [],
   "source": [
    "def plot_precision_recall_vs_threshold(precisions, recalls, thresholds): \n",
    "    plt.plot(thresholds, precisions[:-1], \"b--\", label=\"Precision\") \n",
    "    plt.plot(thresholds, recalls[:-1], \"g-\", label=\"Recall\") \n",
    "    plt.xlabel(\"Threshold\") \n",
    "    plt.legend(loc=\"lower left\") \n",
    "    plt.ylim([0, 1])"
   ]
  },
  {
   "cell_type": "code",
   "execution_count": 193,
   "metadata": {},
   "outputs": [
    {
     "data": {
      "image/png": "[encoded data removed]",
      "text/plain": [
       "<Figure size 432x288 with 1 Axes>"
      ]
     },
     "metadata": {
      "needs_background": "light"
     },
     "output_type": "display_data"
    }
   ],
   "source": [
    "plot_precision_recall_vs_threshold(precisions, recalls, thresholds) \n",
    "plt.show()"
   ]
  },
  {
   "cell_type": "code",
   "execution_count": 194,
   "metadata": {},
   "outputs": [],
   "source": [
    "probab_threshold = 0.45 # setting threshold at 0.4\n",
    "pred_labels = np.where(pred_labels > probab_threshold, 1, 0)"
   ]
  },
  {
   "cell_type": "code",
   "execution_count": 195,
   "metadata": {},
   "outputs": [
    {
     "name": "stdout",
     "output_type": "stream",
     "text": [
      "precision   : 0.7322834645669292\n",
      "recall      : 0.75\n",
      "fbeta score : 0.7463884430176565\n"
     ]
    }
   ],
   "source": [
    "get_scores(labels, pred_labels)"
   ]
  },
  {
   "cell_type": "markdown",
   "metadata": {},
   "source": [
    "### Evaluate on test set"
   ]
  },
  {
   "cell_type": "code",
   "execution_count": 205,
   "metadata": {},
   "outputs": [],
   "source": [
    "test_labels = strat_test_set['chd']\n",
    "strat_test_set.drop('chd', axis = 1, inplace = True)"
   ]
  },
  {
   "cell_type": "code",
   "execution_count": 206,
   "metadata": {},
   "outputs": [],
   "source": [
    "cardio_test_prepared = pd.DataFrame(data_prep_pipeline.fit_transform(strat_test_set))"
   ]
  },
  {
   "cell_type": "code",
   "execution_count": 207,
   "metadata": {},
   "outputs": [],
   "source": [
    "pred_test_labels = best_clf.predict_proba(cardio_test_prepared[[0, 1, 2]])[:, 1] \n",
    "pred_test_labels = np.where(pred_test_labels > probab_threshold, 1, 0)"
   ]
  },
  {
   "cell_type": "code",
   "execution_count": 208,
   "metadata": {},
   "outputs": [
    {
     "name": "stdout",
     "output_type": "stream",
     "text": [
      "precision   : 0.5\n",
      "recall      : 0.3888888888888889\n",
      "fbeta score : 0.4069767441860465\n"
     ]
    }
   ],
   "source": [
    "get_scores(test_labels, pred_test_labels)"
   ]
  },
  {
   "cell_type": "code",
   "execution_count": null,
   "metadata": {},
   "outputs": [],
   "source": []
  }
 ],
 "metadata": {
  "kernelspec": {
   "display_name": "Python 3",
   "language": "python",
   "name": "python3"
  },
  "language_info": {
   "codemirror_mode": {
    "name": "ipython",
    "version": 3
   },
   "file_extension": ".py",
   "mimetype": "text/x-python",
   "name": "python",
   "nbconvert_exporter": "python",
   "pygments_lexer": "ipython3",
   "version": "3.7.3"
  }
 },
 "nbformat": 4,
 "nbformat_minor": 2
}
