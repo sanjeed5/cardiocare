{
 "cells": [
  {
   "cell_type": "code",
   "execution_count": 323,
   "metadata": {},
   "outputs": [],
   "source": [
    "import pandas as pd\n",
    "import numpy as np\n",
    "import matplotlib.pyplot as plt\n",
    "from sklearn.model_selection import StratifiedShuffleSplit\n",
    "from sklearn.pipeline import Pipeline\n",
    "from sklearn.preprocessing import MinMaxScaler\n",
    "from sklearn.base import BaseEstimator\n",
    "from sklearn.pipeline import FeatureUnion\n",
    "from helper_modules import DataFrameSelector"
   ]
  },
  {
   "cell_type": "code",
   "execution_count": 324,
   "metadata": {},
   "outputs": [],
   "source": [
    "try:\n",
    "    from sklearn.impute import SimpleImputer\n",
    "except ImportError:\n",
    "    from sklearn.preprocessing import Imputer as SimpleImputer"
   ]
  },
  {
   "cell_type": "code",
   "execution_count": 325,
   "metadata": {},
   "outputs": [],
   "source": [
    "cardio = pd.read_csv('coris.csv')\n",
    "pd.set_option('display.max_columns', None)"
   ]
  },
  {
   "cell_type": "code",
   "execution_count": 326,
   "metadata": {
    "scrolled": true
   },
   "outputs": [
    {
     "data": {
      "text/html": [
       "<div>\n",
       "<style scoped>\n",
       "    .dataframe tbody tr th:only-of-type {\n",
       "        vertical-align: middle;\n",
       "    }\n",
       "\n",
       "    .dataframe tbody tr th {\n",
       "        vertical-align: top;\n",
       "    }\n",
       "\n",
       "    .dataframe thead th {\n",
       "        text-align: right;\n",
       "    }\n",
       "</style>\n",
       "<table border=\"1\" class=\"dataframe\">\n",
       "  <thead>\n",
       "    <tr style=\"text-align: right;\">\n",
       "      <th></th>\n",
       "      <th>row.names</th>\n",
       "      <th>sbp</th>\n",
       "      <th>tobacco</th>\n",
       "      <th>ldl</th>\n",
       "      <th>adiposity</th>\n",
       "      <th>famhist</th>\n",
       "      <th>typea</th>\n",
       "      <th>obesity</th>\n",
       "      <th>alcohol</th>\n",
       "      <th>age</th>\n",
       "      <th>chd</th>\n",
       "    </tr>\n",
       "  </thead>\n",
       "  <tbody>\n",
       "    <tr>\n",
       "      <td>0</td>\n",
       "      <td>1</td>\n",
       "      <td>160</td>\n",
       "      <td>12.00</td>\n",
       "      <td>5.73</td>\n",
       "      <td>23.11</td>\n",
       "      <td>Present</td>\n",
       "      <td>49</td>\n",
       "      <td>25.30</td>\n",
       "      <td>97.20</td>\n",
       "      <td>52</td>\n",
       "      <td>1</td>\n",
       "    </tr>\n",
       "    <tr>\n",
       "      <td>1</td>\n",
       "      <td>2</td>\n",
       "      <td>144</td>\n",
       "      <td>0.01</td>\n",
       "      <td>4.41</td>\n",
       "      <td>28.61</td>\n",
       "      <td>Absent</td>\n",
       "      <td>55</td>\n",
       "      <td>28.87</td>\n",
       "      <td>2.06</td>\n",
       "      <td>63</td>\n",
       "      <td>1</td>\n",
       "    </tr>\n",
       "    <tr>\n",
       "      <td>2</td>\n",
       "      <td>3</td>\n",
       "      <td>118</td>\n",
       "      <td>0.08</td>\n",
       "      <td>3.48</td>\n",
       "      <td>32.28</td>\n",
       "      <td>Present</td>\n",
       "      <td>52</td>\n",
       "      <td>29.14</td>\n",
       "      <td>3.81</td>\n",
       "      <td>46</td>\n",
       "      <td>0</td>\n",
       "    </tr>\n",
       "    <tr>\n",
       "      <td>3</td>\n",
       "      <td>4</td>\n",
       "      <td>170</td>\n",
       "      <td>7.50</td>\n",
       "      <td>6.41</td>\n",
       "      <td>38.03</td>\n",
       "      <td>Present</td>\n",
       "      <td>51</td>\n",
       "      <td>31.99</td>\n",
       "      <td>24.26</td>\n",
       "      <td>58</td>\n",
       "      <td>1</td>\n",
       "    </tr>\n",
       "    <tr>\n",
       "      <td>4</td>\n",
       "      <td>5</td>\n",
       "      <td>134</td>\n",
       "      <td>13.60</td>\n",
       "      <td>3.50</td>\n",
       "      <td>27.78</td>\n",
       "      <td>Present</td>\n",
       "      <td>60</td>\n",
       "      <td>25.99</td>\n",
       "      <td>57.34</td>\n",
       "      <td>49</td>\n",
       "      <td>1</td>\n",
       "    </tr>\n",
       "  </tbody>\n",
       "</table>\n",
       "</div>"
      ],
      "text/plain": [
       "   row.names  sbp  tobacco   ldl  adiposity  famhist  typea  obesity  alcohol  \\\n",
       "0          1  160    12.00  5.73      23.11  Present     49    25.30    97.20   \n",
       "1          2  144     0.01  4.41      28.61   Absent     55    28.87     2.06   \n",
       "2          3  118     0.08  3.48      32.28  Present     52    29.14     3.81   \n",
       "3          4  170     7.50  6.41      38.03  Present     51    31.99    24.26   \n",
       "4          5  134    13.60  3.50      27.78  Present     60    25.99    57.34   \n",
       "\n",
       "   age  chd  \n",
       "0   52    1  \n",
       "1   63    1  \n",
       "2   46    0  \n",
       "3   58    1  \n",
       "4   49    1  "
      ]
     },
     "execution_count": 326,
     "metadata": {},
     "output_type": "execute_result"
    }
   ],
   "source": [
    "cardio.head()"
   ]
  },
  {
   "cell_type": "code",
   "execution_count": 327,
   "metadata": {
    "scrolled": true
   },
   "outputs": [
    {
     "data": {
      "text/html": [
       "<div>\n",
       "<style scoped>\n",
       "    .dataframe tbody tr th:only-of-type {\n",
       "        vertical-align: middle;\n",
       "    }\n",
       "\n",
       "    .dataframe tbody tr th {\n",
       "        vertical-align: top;\n",
       "    }\n",
       "\n",
       "    .dataframe thead th {\n",
       "        text-align: right;\n",
       "    }\n",
       "</style>\n",
       "<table border=\"1\" class=\"dataframe\">\n",
       "  <thead>\n",
       "    <tr style=\"text-align: right;\">\n",
       "      <th></th>\n",
       "      <th>count</th>\n",
       "      <th>mean</th>\n",
       "      <th>std</th>\n",
       "      <th>min</th>\n",
       "      <th>25%</th>\n",
       "      <th>50%</th>\n",
       "      <th>75%</th>\n",
       "      <th>max</th>\n",
       "    </tr>\n",
       "  </thead>\n",
       "  <tbody>\n",
       "    <tr>\n",
       "      <td>row.names</td>\n",
       "      <td>462.0</td>\n",
       "      <td>231.935065</td>\n",
       "      <td>133.938585</td>\n",
       "      <td>1.00</td>\n",
       "      <td>116.2500</td>\n",
       "      <td>231.500</td>\n",
       "      <td>347.7500</td>\n",
       "      <td>463.00</td>\n",
       "    </tr>\n",
       "    <tr>\n",
       "      <td>sbp</td>\n",
       "      <td>462.0</td>\n",
       "      <td>138.326840</td>\n",
       "      <td>20.496317</td>\n",
       "      <td>101.00</td>\n",
       "      <td>124.0000</td>\n",
       "      <td>134.000</td>\n",
       "      <td>148.0000</td>\n",
       "      <td>218.00</td>\n",
       "    </tr>\n",
       "    <tr>\n",
       "      <td>tobacco</td>\n",
       "      <td>462.0</td>\n",
       "      <td>3.635649</td>\n",
       "      <td>4.593024</td>\n",
       "      <td>0.00</td>\n",
       "      <td>0.0525</td>\n",
       "      <td>2.000</td>\n",
       "      <td>5.5000</td>\n",
       "      <td>31.20</td>\n",
       "    </tr>\n",
       "    <tr>\n",
       "      <td>ldl</td>\n",
       "      <td>462.0</td>\n",
       "      <td>4.740325</td>\n",
       "      <td>2.070909</td>\n",
       "      <td>0.98</td>\n",
       "      <td>3.2825</td>\n",
       "      <td>4.340</td>\n",
       "      <td>5.7900</td>\n",
       "      <td>15.33</td>\n",
       "    </tr>\n",
       "    <tr>\n",
       "      <td>adiposity</td>\n",
       "      <td>462.0</td>\n",
       "      <td>25.406732</td>\n",
       "      <td>7.780699</td>\n",
       "      <td>6.74</td>\n",
       "      <td>19.7750</td>\n",
       "      <td>26.115</td>\n",
       "      <td>31.2275</td>\n",
       "      <td>42.49</td>\n",
       "    </tr>\n",
       "    <tr>\n",
       "      <td>typea</td>\n",
       "      <td>462.0</td>\n",
       "      <td>53.103896</td>\n",
       "      <td>9.817534</td>\n",
       "      <td>13.00</td>\n",
       "      <td>47.0000</td>\n",
       "      <td>53.000</td>\n",
       "      <td>60.0000</td>\n",
       "      <td>78.00</td>\n",
       "    </tr>\n",
       "    <tr>\n",
       "      <td>obesity</td>\n",
       "      <td>462.0</td>\n",
       "      <td>26.044113</td>\n",
       "      <td>4.213680</td>\n",
       "      <td>14.70</td>\n",
       "      <td>22.9850</td>\n",
       "      <td>25.805</td>\n",
       "      <td>28.4975</td>\n",
       "      <td>46.58</td>\n",
       "    </tr>\n",
       "    <tr>\n",
       "      <td>alcohol</td>\n",
       "      <td>462.0</td>\n",
       "      <td>17.044394</td>\n",
       "      <td>24.481059</td>\n",
       "      <td>0.00</td>\n",
       "      <td>0.5100</td>\n",
       "      <td>7.510</td>\n",
       "      <td>23.8925</td>\n",
       "      <td>147.19</td>\n",
       "    </tr>\n",
       "    <tr>\n",
       "      <td>age</td>\n",
       "      <td>462.0</td>\n",
       "      <td>42.816017</td>\n",
       "      <td>14.608956</td>\n",
       "      <td>15.00</td>\n",
       "      <td>31.0000</td>\n",
       "      <td>45.000</td>\n",
       "      <td>55.0000</td>\n",
       "      <td>64.00</td>\n",
       "    </tr>\n",
       "    <tr>\n",
       "      <td>chd</td>\n",
       "      <td>462.0</td>\n",
       "      <td>0.346320</td>\n",
       "      <td>0.476313</td>\n",
       "      <td>0.00</td>\n",
       "      <td>0.0000</td>\n",
       "      <td>0.000</td>\n",
       "      <td>1.0000</td>\n",
       "      <td>1.00</td>\n",
       "    </tr>\n",
       "  </tbody>\n",
       "</table>\n",
       "</div>"
      ],
      "text/plain": [
       "           count        mean         std     min       25%      50%       75%  \\\n",
       "row.names  462.0  231.935065  133.938585    1.00  116.2500  231.500  347.7500   \n",
       "sbp        462.0  138.326840   20.496317  101.00  124.0000  134.000  148.0000   \n",
       "tobacco    462.0    3.635649    4.593024    0.00    0.0525    2.000    5.5000   \n",
       "ldl        462.0    4.740325    2.070909    0.98    3.2825    4.340    5.7900   \n",
       "adiposity  462.0   25.406732    7.780699    6.74   19.7750   26.115   31.2275   \n",
       "typea      462.0   53.103896    9.817534   13.00   47.0000   53.000   60.0000   \n",
       "obesity    462.0   26.044113    4.213680   14.70   22.9850   25.805   28.4975   \n",
       "alcohol    462.0   17.044394   24.481059    0.00    0.5100    7.510   23.8925   \n",
       "age        462.0   42.816017   14.608956   15.00   31.0000   45.000   55.0000   \n",
       "chd        462.0    0.346320    0.476313    0.00    0.0000    0.000    1.0000   \n",
       "\n",
       "              max  \n",
       "row.names  463.00  \n",
       "sbp        218.00  \n",
       "tobacco     31.20  \n",
       "ldl         15.33  \n",
       "adiposity   42.49  \n",
       "typea       78.00  \n",
       "obesity     46.58  \n",
       "alcohol    147.19  \n",
       "age         64.00  \n",
       "chd          1.00  "
      ]
     },
     "execution_count": 327,
     "metadata": {},
     "output_type": "execute_result"
    }
   ],
   "source": [
    "cardio.describe().T"
   ]
  },
  {
   "cell_type": "code",
   "execution_count": 328,
   "metadata": {},
   "outputs": [
    {
     "data": {
      "text/plain": [
       "count    462.000000\n",
       "mean      42.816017\n",
       "std       14.608956\n",
       "min       15.000000\n",
       "25%       31.000000\n",
       "50%       45.000000\n",
       "75%       55.000000\n",
       "max       64.000000\n",
       "Name: age, dtype: float64"
      ]
     },
     "execution_count": 328,
     "metadata": {},
     "output_type": "execute_result"
    }
   ],
   "source": [
    "cardio['age'].describe()"
   ]
  },
  {
   "cell_type": "code",
   "execution_count": 329,
   "metadata": {},
   "outputs": [],
   "source": [
    "cardio.drop('row.names', axis = 1, inplace = True)"
   ]
  },
  {
   "cell_type": "code",
   "execution_count": 330,
   "metadata": {},
   "outputs": [],
   "source": [
    "cardio['famhist'] = cardio['famhist'].map({\n",
    "    'Absent': 0, 'Present': 1\n",
    "})"
   ]
  },
  {
   "cell_type": "code",
   "execution_count": 331,
   "metadata": {},
   "outputs": [
    {
     "data": {
      "text/plain": [
       "[]"
      ]
     },
     "execution_count": 331,
     "metadata": {},
     "output_type": "execute_result"
    },
    {
     "data": {
      "image/png": "[encoded data removed]",
      "text/plain": [
       "<Figure size 864x1080 with 12 Axes>"
      ]
     },
     "metadata": {
      "needs_background": "light"
     },
     "output_type": "display_data"
    }
   ],
   "source": [
    "cardio.hist(bins = 20, figsize = (12,15))\n",
    "plt.plot()"
   ]
  },
  {
   "cell_type": "code",
   "execution_count": 332,
   "metadata": {
    "scrolled": false
   },
   "outputs": [
    {
     "data": {
      "text/plain": [
       "0    0.65368\n",
       "1    0.34632\n",
       "Name: chd, dtype: float64"
      ]
     },
     "execution_count": 332,
     "metadata": {},
     "output_type": "execute_result"
    }
   ],
   "source": [
    "cardio['chd'].value_counts(normalize = True)"
   ]
  },
  {
   "cell_type": "code",
   "execution_count": 333,
   "metadata": {},
   "outputs": [],
   "source": [
    "# stratified test train split based on age strata\n",
    "age_strata = cardio['age'] // 16\n",
    "split = StratifiedShuffleSplit(n_splits = 1, test_size = 0.2, random_state = 42)\n",
    "for train_index, test_index in split.split(cardio, age_strata):\n",
    "    strat_train_set = cardio.iloc[train_index] \n",
    "    strat_test_set = cardio.iloc[test_index]"
   ]
  },
  {
   "cell_type": "code",
   "execution_count": 334,
   "metadata": {},
   "outputs": [],
   "source": [
    "cardio_train = strat_train_set.copy()"
   ]
  },
  {
   "cell_type": "code",
   "execution_count": 335,
   "metadata": {},
   "outputs": [
    {
     "data": {
      "text/plain": [
       "[]"
      ]
     },
     "execution_count": 335,
     "metadata": {},
     "output_type": "execute_result"
    },
    {
     "data": {
      "image/png": "[encoded data removed]",
      "text/plain": [
       "<Figure size 864x864 with 12 Axes>"
      ]
     },
     "metadata": {
      "needs_background": "light"
     },
     "output_type": "display_data"
    }
   ],
   "source": [
    "cardio_train.hist(bins = 20, figsize = (12,12))\n",
    "plt.plot()"
   ]
  },
  {
   "cell_type": "code",
   "execution_count": 336,
   "metadata": {
    "scrolled": false
   },
   "outputs": [
    {
     "data": {
      "text/plain": [
       "chd          1.000000\n",
       "age          0.375376\n",
       "tobacco      0.309451\n",
       "famhist      0.277175\n",
       "ldl          0.255865\n",
       "adiposity    0.246497\n",
       "sbp          0.125386\n",
       "typea        0.094392\n",
       "obesity      0.081873\n",
       "alcohol      0.039519\n",
       "Name: chd, dtype: float64"
      ]
     },
     "execution_count": 336,
     "metadata": {},
     "output_type": "execute_result"
    }
   ],
   "source": [
    "corr_matrix = cardio_train.corr()\n",
    "corr_matrix['chd'].sort_values(ascending = False)"
   ]
  },
  {
   "cell_type": "code",
   "execution_count": 337,
   "metadata": {},
   "outputs": [],
   "source": [
    "labels = cardio_train['chd']\n",
    "cardio_train.drop('chd', axis = 1, inplace = True)"
   ]
  },
  {
   "cell_type": "code",
   "execution_count": 338,
   "metadata": {},
   "outputs": [],
   "source": [
    "num_attributes = ['age', 'tobacco', 'ldl', 'adiposity', 'sbp', 'alcohol', 'typea', 'obesity']\n",
    "cat_attributes = ['famhist']"
   ]
  },
  {
   "cell_type": "code",
   "execution_count": 339,
   "metadata": {},
   "outputs": [],
   "source": [
    "num_pipeline = Pipeline([\n",
    "    ('selector', DataFrameSelector(num_attributes)),\n",
    "    ('imputer', SimpleImputer(strategy = 'median')),\n",
    "    ('scaler', MinMaxScaler(feature_range = (0, 100)))\n",
    "])"
   ]
  },
  {
   "cell_type": "code",
   "execution_count": 340,
   "metadata": {},
   "outputs": [],
   "source": [
    "cat_pipeline = Pipeline([\n",
    "    ('selector', DataFrameSelector(cat_attributes))\n",
    "])\n",
    "\n",
    "data_prep_pipeline = FeatureUnion(transformer_list=[\n",
    "                    (\"num_pipeline\", num_pipeline),\n",
    "                    (\"cat_pipeline\", cat_pipeline)])"
   ]
  },
  {
   "cell_type": "code",
   "execution_count": 341,
   "metadata": {},
   "outputs": [],
   "source": [
    "cardio_prepared = pd.DataFrame(data_prep_pipeline.fit_transform(cardio_train))"
   ]
  },
  {
   "cell_type": "markdown",
   "metadata": {},
   "source": [
    "### Machine Learning"
   ]
  },
  {
   "cell_type": "code",
   "execution_count": 342,
   "metadata": {},
   "outputs": [],
   "source": [
    "# from daal4py.sklearn.linear_model import LogisticRegression\n",
    "from sklearn.linear_model import LogisticRegression # remove\n",
    "from sklearn.metrics import precision_score, recall_score, fbeta_score\n",
    "from sklearn.metrics import roc_curve, precision_recall_curve\n",
    "# from daal4py.sklearn.ensemble import RandomForestClassifier\n",
    "from sklearn.ensemble import RandomForestClassifier # remove\n",
    "from sklearn.model_selection import RandomizedSearchCV\n",
    "from sklearn.metrics.scorer import make_scorer\n",
    "from sklearn.neural_network import MLPClassifier"
   ]
  },
  {
   "cell_type": "code",
   "execution_count": 343,
   "metadata": {},
   "outputs": [],
   "source": [
    "def get_scores(y_true, y_pred):\n",
    "    \n",
    "    def get_precision_score(y_true, y_pred):\n",
    "        return round(precision_score(y_true, y_pred), 2)\n",
    "    \n",
    "    def get_recall_score(y_true, y_pred):\n",
    "        return round(recall_score(y_true, y_pred), 2)\n",
    "    \n",
    "    def get_fbeta_score(y_true, y_pred):\n",
    "        return round(fbeta_score(y_true, y_pred, beta = 2), 2)\n",
    "    \n",
    "    print(f'precision   : {get_precision_score(y_true, y_pred)}')\n",
    "    print(f'recall      : {get_recall_score(y_true, y_pred)}')\n",
    "    print(f'fbeta score : {get_fbeta_score(y_true, y_pred)}')"
   ]
  },
  {
   "cell_type": "code",
   "execution_count": 344,
   "metadata": {},
   "outputs": [],
   "source": [
    "fbeta_scorer = make_scorer(fbeta_score, beta = 1.2)\n",
    "\n",
    "def get_fbeta_score(y_true, y_pred, beta = 1.2):\n",
    "    return fbeta_score(y_true, y_pred, beta)"
   ]
  },
  {
   "cell_type": "code",
   "execution_count": 345,
   "metadata": {},
   "outputs": [],
   "source": [
    "class DummyEstimator(BaseEstimator):\n",
    "    def fit(self): pass\n",
    "    def score(self): pass"
   ]
  },
  {
   "cell_type": "raw",
   "metadata": {},
   "source": [
    "# for multiple algorithms using randomized cv\n",
    "\n",
    "clf_pipeline = Pipeline([('clf', DummyEstimator())]) # placeholder estimator\n",
    "param_grid = [\n",
    "    {\n",
    "        'clf': [RandomForestClassifier(random_state = 0)],\n",
    "        'clf__n_estimators': [200, 400, 600, 800, 1000, 1200, 1400, 1600, 1800, 2000],\n",
    "        'clf__max_features': ['auto', 'sqrt'],\n",
    "        'clf__max_depth': [10, 20, 30, 40, 50, 60, 70, 80, 90, 100, 110, None],\n",
    "        'clf__min_samples_split': [2, 5, 10],\n",
    "        'clf__min_samples_leaf': [1, 2, 4],\n",
    "        'clf__bootstrap': [True, False]\n",
    "    },\n",
    "    {\n",
    "        'clf': [MLPClassifier(random_state = 0)],\n",
    "        'clf__activation': ['tanh', 'relu'],\n",
    "        'clf__alpha': [0.0001, 0.05],\n",
    "        'clf__hidden_layer_sizes':[(50,50,50), (50,100,50), (100,)],\n",
    "        'clf__learning_rate': ['constant','adaptive']\n",
    "    },\n",
    "    {\n",
    "        'clf': [LogisticRegression()],\n",
    "        'clf__penalty' : ['l1', 'l2'],\n",
    "        'clf__C' : np.logspace(-4, 4, 20),\n",
    "        'clf__solver' : ['liblinear']        \n",
    "    }]\n",
    "\n",
    "algos = ['RF', 'MLP', 'LR']\n",
    "results = dict()\n",
    "for idx, params in enumerate(param_grid):\n",
    "    \n",
    "    print(algos[idx])\n",
    "    random_search = RandomizedSearchCV(clf_pipeline, params, cv = 5, verbose = 0, n_jobs = -1, \n",
    "                                      random_state = 0, n_iter = 5, scoring = fbeta_scorer)\n",
    "    bes_clf = random_search.fit(cardio_prepared, labels)\n",
    "    results[algos[idx]] = random_search.best_score_ \n",
    "  \n",
    "\n",
    "print(results)"
   ]
  },
  {
   "cell_type": "code",
   "execution_count": 346,
   "metadata": {},
   "outputs": [
    {
     "name": "stderr",
     "output_type": "stream",
     "text": [
      "C:\\Users\\user\\Anaconda3\\lib\\site-packages\\sklearn\\model_selection\\_search.py:814: DeprecationWarning: The default of the `iid` parameter will change from True to False in version 0.22 and will be removed in 0.24. This will change numeric results when test-set sizes are unequal.\n",
      "  DeprecationWarning)\n"
     ]
    },
    {
     "name": "stdout",
     "output_type": "stream",
     "text": [
      "0.44528639424747785\n"
     ]
    }
   ],
   "source": [
    "clf_pipeline = Pipeline([('clf', DummyEstimator())]) # placeholder estimator\n",
    "param_grid = {\n",
    "        'clf': [RandomForestClassifier(random_state = 0)],\n",
    "        'clf__n_estimators': [200, 400, 600, 800, 1000, 1200, 1400, 1600, 1800, 2000],\n",
    "        'clf__max_features': ['auto', 'sqrt'],\n",
    "        'clf__max_depth': [10, 20, 30, 40, 50, 60, 70, 80, 90, 100, 110, None],\n",
    "        'clf__min_samples_split': [2, 5, 10],\n",
    "        'clf__min_samples_leaf': [1, 2, 4],\n",
    "        'clf__bootstrap': [True, False]\n",
    "\n",
    "}\n",
    "\n",
    "random_search = RandomizedSearchCV(clf_pipeline, param_grid, cv = 5, verbose = 0, n_jobs = -1, \n",
    "                                      random_state = 0, n_iter = 10, scoring = fbeta_scorer)\n",
    "\n",
    "best_clf = random_search.fit(cardio_prepared, labels).best_estimator_\n",
    "best_clf = best_clf[0]\n",
    "print(random_search.best_score_)"
   ]
  },
  {
   "cell_type": "code",
   "execution_count": 347,
   "metadata": {
    "scrolled": true
   },
   "outputs": [],
   "source": [
    "pred_probabs = best_clf.predict_proba(cardio_prepared)[:, 1]"
   ]
  },
  {
   "cell_type": "code",
   "execution_count": 348,
   "metadata": {},
   "outputs": [],
   "source": [
    "precisions, recalls, thresholds = precision_recall_curve(labels, pred_probabs) "
   ]
  },
  {
   "cell_type": "code",
   "execution_count": 349,
   "metadata": {},
   "outputs": [],
   "source": [
    "def plot_precision_recall_vs_threshold(precisions, recalls, thresholds): \n",
    "    plt.plot(thresholds, precisions[:-1], \"b--\", label=\"Precision\") \n",
    "    plt.plot(thresholds, recalls[:-1], \"g-\", label=\"Recall\") \n",
    "    plt.xlabel(\"Threshold\") \n",
    "    plt.legend(loc=\"lower left\") \n",
    "    plt.ylim([0, 1])"
   ]
  },
  {
   "cell_type": "code",
   "execution_count": 350,
   "metadata": {},
   "outputs": [
    {
     "data": {
      "image/png": "[encoded data removed]",
      "text/plain": [
       "<Figure size 432x288 with 1 Axes>"
      ]
     },
     "metadata": {
      "needs_background": "light"
     },
     "output_type": "display_data"
    }
   ],
   "source": [
    "plot_precision_recall_vs_threshold(precisions, recalls, thresholds) \n",
    "plt.show()"
   ]
  },
  {
   "cell_type": "code",
   "execution_count": 351,
   "metadata": {},
   "outputs": [],
   "source": [
    "normal_threshold = 0.25 # normal threshold at 0.25\n",
    "risky_labels = np.where(pred_probabs > normal_threshold, 1, 0)"
   ]
  },
  {
   "cell_type": "code",
   "execution_count": 352,
   "metadata": {
    "scrolled": true
   },
   "outputs": [
    {
     "name": "stdout",
     "output_type": "stream",
     "text": [
      "precision   : 0.71\n",
      "recall      : 1.0\n",
      "fbeta score : 0.93\n"
     ]
    }
   ],
   "source": [
    "get_scores(labels, risky_labels) # high recall on risky cases"
   ]
  },
  {
   "cell_type": "markdown",
   "metadata": {},
   "source": [
    "### Evaluate on test set"
   ]
  },
  {
   "cell_type": "code",
   "execution_count": 353,
   "metadata": {},
   "outputs": [],
   "source": [
    "cardio_test = strat_test_set.copy()\n",
    "test_labels = cardio_test['chd']\n",
    "cardio_test.drop('chd', axis = 1, inplace = True)"
   ]
  },
  {
   "cell_type": "code",
   "execution_count": 354,
   "metadata": {},
   "outputs": [],
   "source": [
    "cardio_test_prepared = pd.DataFrame(data_prep_pipeline.transform(cardio_test))"
   ]
  },
  {
   "cell_type": "code",
   "execution_count": 355,
   "metadata": {},
   "outputs": [],
   "source": [
    "pred_test_probabs = best_clf.predict_proba(cardio_test_prepared)[:, 1]\n",
    "risky_test_labels = np.where(pred_test_probabs > normal_threshold, 1, 0)"
   ]
  },
  {
   "cell_type": "code",
   "execution_count": 356,
   "metadata": {},
   "outputs": [
    {
     "name": "stdout",
     "output_type": "stream",
     "text": [
      "precision   : 0.5\n",
      "recall      : 0.81\n",
      "fbeta score : 0.72\n"
     ]
    }
   ],
   "source": [
    "get_scores(test_labels, risky_test_labels) # high recall on risky cases"
   ]
  },
  {
   "cell_type": "markdown",
   "metadata": {},
   "source": [
    "### Training best classifier on full dataset"
   ]
  },
  {
   "cell_type": "code",
   "execution_count": 357,
   "metadata": {},
   "outputs": [
    {
     "data": {
      "text/plain": [
       "RandomForestClassifier(bootstrap=True, class_weight=None, criterion='gini',\n",
       "                       max_depth=60, max_features='sqrt', max_leaf_nodes=None,\n",
       "                       min_impurity_decrease=0.0, min_impurity_split=None,\n",
       "                       min_samples_leaf=2, min_samples_split=5,\n",
       "                       min_weight_fraction_leaf=0.0, n_estimators=800,\n",
       "                       n_jobs=None, oob_score=False, random_state=0, verbose=0,\n",
       "                       warm_start=False)"
      ]
     },
     "execution_count": 357,
     "metadata": {},
     "output_type": "execute_result"
    }
   ],
   "source": [
    "Y_labels = cardio['chd']\n",
    "cardio.drop('chd', axis = 1, inplace = True)\n",
    "columns = list(cardio.columns)\n",
    "cardio_prepared_full = data_prep_pipeline.fit_transform(cardio)\n",
    "best_clf.fit(cardio_prepared_full, Y_labels)"
   ]
  },
  {
   "cell_type": "code",
   "execution_count": 358,
   "metadata": {},
   "outputs": [],
   "source": [
    "feature_importances = dict(zip(columns, best_clf.feature_importances_))\n",
    "modifiable_params = ['sbp', 'tobacco', 'ldl', 'adiposity', 'obesity', 'alcohol']\n",
    "feature_importances = {key : feature_importances[key] for key in modifiable_params}"
   ]
  },
  {
   "cell_type": "code",
   "execution_count": 359,
   "metadata": {},
   "outputs": [
    {
     "data": {
      "text/plain": [
       "{'sbp': 0.16252897469399974,\n",
       " 'tobacco': 0.1599876925086851,\n",
       " 'ldl': 0.13909911225119134,\n",
       " 'adiposity': 0.11255426224396754,\n",
       " 'obesity': 0.1039333287199013,\n",
       " 'alcohol': 0.09374354334239242}"
      ]
     },
     "execution_count": 359,
     "metadata": {},
     "output_type": "execute_result"
    }
   ],
   "source": [
    "feature_importances"
   ]
  },
  {
   "cell_type": "code",
   "execution_count": 360,
   "metadata": {},
   "outputs": [],
   "source": [
    "safe_limits = { \n",
    "    'sbp': 140,\n",
    "    'tobacco': 0.00438,\n",
    "    'ldl': 200, \n",
    "    'adiposity': 28,\n",
    "    'obesity': 26,\n",
    "    'alcohol': 30\n",
    "}"
   ]
  },
  {
   "cell_type": "markdown",
   "metadata": {},
   "source": [
    "### Saving to pickle files"
   ]
  },
  {
   "cell_type": "code",
   "execution_count": 362,
   "metadata": {},
   "outputs": [],
   "source": [
    "import pickle\n",
    "\n",
    "with open('final_model.pkl', 'wb') as file:\n",
    "    pickle.dump(best_clf, file)\n",
    "\n",
    "with open('data_prep_pipeline.pkl', 'wb') as file:\n",
    "    pickle.dump(data_prep_pipeline, file)\n",
    "\n",
    "with open('normal_threshold.pkl', 'wb') as file:\n",
    "    pickle.dump(normal_threshold, file)\n",
    "    \n",
    "with open('feature_importances.pkl', 'wb') as file:\n",
    "    pickle.dump(feature_importances, file)\n",
    "    \n",
    "with open('safe_limits.pkl', 'wb') as file:\n",
    "    pickle.dump(safe_limits, file)"
   ]
  }
 ],
 "metadata": {
  "kernelspec": {
   "display_name": "Python 3",
   "language": "python",
   "name": "python3"
  },
  "language_info": {
   "codemirror_mode": {
    "name": "ipython",
    "version": 3
   },
   "file_extension": ".py",
   "mimetype": "text/x-python",
   "name": "python",
   "nbconvert_exporter": "python",
   "pygments_lexer": "ipython3",
   "version": "3.7.3"
  }
 },
 "nbformat": 4,
 "nbformat_minor": 2
}
